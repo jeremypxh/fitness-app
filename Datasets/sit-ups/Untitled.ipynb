{
 "cells": [
  {
   "cell_type": "code",
   "execution_count": 1,
   "metadata": {},
   "outputs": [],
   "source": [
    "import numpy as np\n",
    "import pandas as pd"
   ]
  },
  {
   "cell_type": "code",
   "execution_count": 2,
   "metadata": {},
   "outputs": [
    {
     "data": {
      "text/html": [
       "<div>\n",
       "<style scoped>\n",
       "    .dataframe tbody tr th:only-of-type {\n",
       "        vertical-align: middle;\n",
       "    }\n",
       "\n",
       "    .dataframe tbody tr th {\n",
       "        vertical-align: top;\n",
       "    }\n",
       "\n",
       "    .dataframe thead th {\n",
       "        text-align: right;\n",
       "    }\n",
       "</style>\n",
       "<table border=\"1\" class=\"dataframe\">\n",
       "  <thead>\n",
       "    <tr style=\"text-align: right;\">\n",
       "      <th></th>\n",
       "      <th>0</th>\n",
       "      <th>1</th>\n",
       "      <th>2</th>\n",
       "      <th>3</th>\n",
       "      <th>4</th>\n",
       "      <th>5</th>\n",
       "      <th>6</th>\n",
       "      <th>7</th>\n",
       "      <th>8</th>\n",
       "      <th>9</th>\n",
       "    </tr>\n",
       "  </thead>\n",
       "  <tbody>\n",
       "    <tr>\n",
       "      <th>0</th>\n",
       "      <td>0.0228</td>\n",
       "      <td>0.000</td>\n",
       "      <td>0.000</td>\n",
       "      <td>0.000</td>\n",
       "      <td>171.0</td>\n",
       "      <td>5.65</td>\n",
       "      <td>-52.9</td>\n",
       "      <td>0.00000</td>\n",
       "      <td>0.000</td>\n",
       "      <td>0.000</td>\n",
       "    </tr>\n",
       "    <tr>\n",
       "      <th>1</th>\n",
       "      <td>0.0443</td>\n",
       "      <td>-0.061</td>\n",
       "      <td>-0.244</td>\n",
       "      <td>0.000</td>\n",
       "      <td>171.0</td>\n",
       "      <td>5.65</td>\n",
       "      <td>-52.9</td>\n",
       "      <td>-0.09720</td>\n",
       "      <td>0.156</td>\n",
       "      <td>-0.988</td>\n",
       "    </tr>\n",
       "    <tr>\n",
       "      <th>2</th>\n",
       "      <td>0.0614</td>\n",
       "      <td>-0.061</td>\n",
       "      <td>-0.244</td>\n",
       "      <td>0.000</td>\n",
       "      <td>171.0</td>\n",
       "      <td>5.65</td>\n",
       "      <td>-52.9</td>\n",
       "      <td>-0.09720</td>\n",
       "      <td>0.156</td>\n",
       "      <td>-0.988</td>\n",
       "    </tr>\n",
       "    <tr>\n",
       "      <th>3</th>\n",
       "      <td>0.0767</td>\n",
       "      <td>-0.061</td>\n",
       "      <td>0.000</td>\n",
       "      <td>0.000</td>\n",
       "      <td>171.0</td>\n",
       "      <td>5.65</td>\n",
       "      <td>-52.9</td>\n",
       "      <td>-0.09810</td>\n",
       "      <td>0.156</td>\n",
       "      <td>-0.988</td>\n",
       "    </tr>\n",
       "    <tr>\n",
       "      <th>4</th>\n",
       "      <td>0.0917</td>\n",
       "      <td>-0.061</td>\n",
       "      <td>0.000</td>\n",
       "      <td>0.000</td>\n",
       "      <td>171.0</td>\n",
       "      <td>5.65</td>\n",
       "      <td>-52.9</td>\n",
       "      <td>-0.09810</td>\n",
       "      <td>0.156</td>\n",
       "      <td>-0.988</td>\n",
       "    </tr>\n",
       "    <tr>\n",
       "      <th>...</th>\n",
       "      <td>...</td>\n",
       "      <td>...</td>\n",
       "      <td>...</td>\n",
       "      <td>...</td>\n",
       "      <td>...</td>\n",
       "      <td>...</td>\n",
       "      <td>...</td>\n",
       "      <td>...</td>\n",
       "      <td>...</td>\n",
       "      <td>...</td>\n",
       "    </tr>\n",
       "    <tr>\n",
       "      <th>3810</th>\n",
       "      <td>59.9000</td>\n",
       "      <td>-4.210</td>\n",
       "      <td>-7.260</td>\n",
       "      <td>0.244</td>\n",
       "      <td>168.0</td>\n",
       "      <td>-1.59</td>\n",
       "      <td>88.1</td>\n",
       "      <td>0.01170</td>\n",
       "      <td>0.205</td>\n",
       "      <td>-0.987</td>\n",
       "    </tr>\n",
       "    <tr>\n",
       "      <th>3811</th>\n",
       "      <td>59.9000</td>\n",
       "      <td>-12.200</td>\n",
       "      <td>-8.180</td>\n",
       "      <td>0.061</td>\n",
       "      <td>168.0</td>\n",
       "      <td>-1.52</td>\n",
       "      <td>87.6</td>\n",
       "      <td>0.01370</td>\n",
       "      <td>0.208</td>\n",
       "      <td>-0.966</td>\n",
       "    </tr>\n",
       "    <tr>\n",
       "      <th>3812</th>\n",
       "      <td>59.9000</td>\n",
       "      <td>-12.200</td>\n",
       "      <td>-8.180</td>\n",
       "      <td>0.061</td>\n",
       "      <td>168.0</td>\n",
       "      <td>-1.43</td>\n",
       "      <td>87.2</td>\n",
       "      <td>0.01370</td>\n",
       "      <td>0.208</td>\n",
       "      <td>-0.966</td>\n",
       "    </tr>\n",
       "    <tr>\n",
       "      <th>3813</th>\n",
       "      <td>60.0000</td>\n",
       "      <td>-14.600</td>\n",
       "      <td>-10.100</td>\n",
       "      <td>-0.244</td>\n",
       "      <td>167.0</td>\n",
       "      <td>-1.35</td>\n",
       "      <td>86.7</td>\n",
       "      <td>0.00928</td>\n",
       "      <td>0.223</td>\n",
       "      <td>-0.963</td>\n",
       "    </tr>\n",
       "    <tr>\n",
       "      <th>3814</th>\n",
       "      <td>60.0000</td>\n",
       "      <td>-14.600</td>\n",
       "      <td>-10.100</td>\n",
       "      <td>-0.244</td>\n",
       "      <td>167.0</td>\n",
       "      <td>-1.24</td>\n",
       "      <td>86.3</td>\n",
       "      <td>0.00928</td>\n",
       "      <td>0.223</td>\n",
       "      <td>-0.963</td>\n",
       "    </tr>\n",
       "  </tbody>\n",
       "</table>\n",
       "<p>3815 rows × 10 columns</p>\n",
       "</div>"
      ],
      "text/plain": [
       "            0       1       2      3      4     5     6        7      8      9\n",
       "0      0.0228   0.000   0.000  0.000  171.0  5.65 -52.9  0.00000  0.000  0.000\n",
       "1      0.0443  -0.061  -0.244  0.000  171.0  5.65 -52.9 -0.09720  0.156 -0.988\n",
       "2      0.0614  -0.061  -0.244  0.000  171.0  5.65 -52.9 -0.09720  0.156 -0.988\n",
       "3      0.0767  -0.061   0.000  0.000  171.0  5.65 -52.9 -0.09810  0.156 -0.988\n",
       "4      0.0917  -0.061   0.000  0.000  171.0  5.65 -52.9 -0.09810  0.156 -0.988\n",
       "...       ...     ...     ...    ...    ...   ...   ...      ...    ...    ...\n",
       "3810  59.9000  -4.210  -7.260  0.244  168.0 -1.59  88.1  0.01170  0.205 -0.987\n",
       "3811  59.9000 -12.200  -8.180  0.061  168.0 -1.52  87.6  0.01370  0.208 -0.966\n",
       "3812  59.9000 -12.200  -8.180  0.061  168.0 -1.43  87.2  0.01370  0.208 -0.966\n",
       "3813  60.0000 -14.600 -10.100 -0.244  167.0 -1.35  86.7  0.00928  0.223 -0.963\n",
       "3814  60.0000 -14.600 -10.100 -0.244  167.0 -1.24  86.3  0.00928  0.223 -0.963\n",
       "\n",
       "[3815 rows x 10 columns]"
      ]
     },
     "execution_count": 2,
     "metadata": {},
     "output_type": "execute_result"
    }
   ],
   "source": [
    "data = pd.read_csv('lefthand_normal.csv',header = None)\n",
    "data"
   ]
  },
  {
   "cell_type": "code",
   "execution_count": 3,
   "metadata": {},
   "outputs": [
    {
     "data": {
      "text/html": [
       "<div>\n",
       "<style scoped>\n",
       "    .dataframe tbody tr th:only-of-type {\n",
       "        vertical-align: middle;\n",
       "    }\n",
       "\n",
       "    .dataframe tbody tr th {\n",
       "        vertical-align: top;\n",
       "    }\n",
       "\n",
       "    .dataframe thead th {\n",
       "        text-align: right;\n",
       "    }\n",
       "</style>\n",
       "<table border=\"1\" class=\"dataframe\">\n",
       "  <thead>\n",
       "    <tr style=\"text-align: right;\">\n",
       "      <th></th>\n",
       "      <th>1</th>\n",
       "      <th>2</th>\n",
       "      <th>3</th>\n",
       "      <th>4</th>\n",
       "      <th>5</th>\n",
       "      <th>6</th>\n",
       "      <th>7</th>\n",
       "      <th>8</th>\n",
       "      <th>9</th>\n",
       "    </tr>\n",
       "  </thead>\n",
       "  <tbody>\n",
       "    <tr>\n",
       "      <th>0</th>\n",
       "      <td>0.000</td>\n",
       "      <td>0.000</td>\n",
       "      <td>0.000</td>\n",
       "      <td>171.0</td>\n",
       "      <td>5.65</td>\n",
       "      <td>-52.9</td>\n",
       "      <td>0.00000</td>\n",
       "      <td>0.000</td>\n",
       "      <td>0.000</td>\n",
       "    </tr>\n",
       "    <tr>\n",
       "      <th>1</th>\n",
       "      <td>-0.061</td>\n",
       "      <td>-0.244</td>\n",
       "      <td>0.000</td>\n",
       "      <td>171.0</td>\n",
       "      <td>5.65</td>\n",
       "      <td>-52.9</td>\n",
       "      <td>-0.09720</td>\n",
       "      <td>0.156</td>\n",
       "      <td>-0.988</td>\n",
       "    </tr>\n",
       "    <tr>\n",
       "      <th>2</th>\n",
       "      <td>-0.061</td>\n",
       "      <td>-0.244</td>\n",
       "      <td>0.000</td>\n",
       "      <td>171.0</td>\n",
       "      <td>5.65</td>\n",
       "      <td>-52.9</td>\n",
       "      <td>-0.09720</td>\n",
       "      <td>0.156</td>\n",
       "      <td>-0.988</td>\n",
       "    </tr>\n",
       "    <tr>\n",
       "      <th>3</th>\n",
       "      <td>-0.061</td>\n",
       "      <td>0.000</td>\n",
       "      <td>0.000</td>\n",
       "      <td>171.0</td>\n",
       "      <td>5.65</td>\n",
       "      <td>-52.9</td>\n",
       "      <td>-0.09810</td>\n",
       "      <td>0.156</td>\n",
       "      <td>-0.988</td>\n",
       "    </tr>\n",
       "    <tr>\n",
       "      <th>4</th>\n",
       "      <td>-0.061</td>\n",
       "      <td>0.000</td>\n",
       "      <td>0.000</td>\n",
       "      <td>171.0</td>\n",
       "      <td>5.65</td>\n",
       "      <td>-52.9</td>\n",
       "      <td>-0.09810</td>\n",
       "      <td>0.156</td>\n",
       "      <td>-0.988</td>\n",
       "    </tr>\n",
       "    <tr>\n",
       "      <th>...</th>\n",
       "      <td>...</td>\n",
       "      <td>...</td>\n",
       "      <td>...</td>\n",
       "      <td>...</td>\n",
       "      <td>...</td>\n",
       "      <td>...</td>\n",
       "      <td>...</td>\n",
       "      <td>...</td>\n",
       "      <td>...</td>\n",
       "    </tr>\n",
       "    <tr>\n",
       "      <th>3810</th>\n",
       "      <td>-4.210</td>\n",
       "      <td>-7.260</td>\n",
       "      <td>0.244</td>\n",
       "      <td>168.0</td>\n",
       "      <td>-1.59</td>\n",
       "      <td>88.1</td>\n",
       "      <td>0.01170</td>\n",
       "      <td>0.205</td>\n",
       "      <td>-0.987</td>\n",
       "    </tr>\n",
       "    <tr>\n",
       "      <th>3811</th>\n",
       "      <td>-12.200</td>\n",
       "      <td>-8.180</td>\n",
       "      <td>0.061</td>\n",
       "      <td>168.0</td>\n",
       "      <td>-1.52</td>\n",
       "      <td>87.6</td>\n",
       "      <td>0.01370</td>\n",
       "      <td>0.208</td>\n",
       "      <td>-0.966</td>\n",
       "    </tr>\n",
       "    <tr>\n",
       "      <th>3812</th>\n",
       "      <td>-12.200</td>\n",
       "      <td>-8.180</td>\n",
       "      <td>0.061</td>\n",
       "      <td>168.0</td>\n",
       "      <td>-1.43</td>\n",
       "      <td>87.2</td>\n",
       "      <td>0.01370</td>\n",
       "      <td>0.208</td>\n",
       "      <td>-0.966</td>\n",
       "    </tr>\n",
       "    <tr>\n",
       "      <th>3813</th>\n",
       "      <td>-14.600</td>\n",
       "      <td>-10.100</td>\n",
       "      <td>-0.244</td>\n",
       "      <td>167.0</td>\n",
       "      <td>-1.35</td>\n",
       "      <td>86.7</td>\n",
       "      <td>0.00928</td>\n",
       "      <td>0.223</td>\n",
       "      <td>-0.963</td>\n",
       "    </tr>\n",
       "    <tr>\n",
       "      <th>3814</th>\n",
       "      <td>-14.600</td>\n",
       "      <td>-10.100</td>\n",
       "      <td>-0.244</td>\n",
       "      <td>167.0</td>\n",
       "      <td>-1.24</td>\n",
       "      <td>86.3</td>\n",
       "      <td>0.00928</td>\n",
       "      <td>0.223</td>\n",
       "      <td>-0.963</td>\n",
       "    </tr>\n",
       "  </tbody>\n",
       "</table>\n",
       "<p>3815 rows × 9 columns</p>\n",
       "</div>"
      ],
      "text/plain": [
       "           1       2      3      4     5     6        7      8      9\n",
       "0      0.000   0.000  0.000  171.0  5.65 -52.9  0.00000  0.000  0.000\n",
       "1     -0.061  -0.244  0.000  171.0  5.65 -52.9 -0.09720  0.156 -0.988\n",
       "2     -0.061  -0.244  0.000  171.0  5.65 -52.9 -0.09720  0.156 -0.988\n",
       "3     -0.061   0.000  0.000  171.0  5.65 -52.9 -0.09810  0.156 -0.988\n",
       "4     -0.061   0.000  0.000  171.0  5.65 -52.9 -0.09810  0.156 -0.988\n",
       "...      ...     ...    ...    ...   ...   ...      ...    ...    ...\n",
       "3810  -4.210  -7.260  0.244  168.0 -1.59  88.1  0.01170  0.205 -0.987\n",
       "3811 -12.200  -8.180  0.061  168.0 -1.52  87.6  0.01370  0.208 -0.966\n",
       "3812 -12.200  -8.180  0.061  168.0 -1.43  87.2  0.01370  0.208 -0.966\n",
       "3813 -14.600 -10.100 -0.244  167.0 -1.35  86.7  0.00928  0.223 -0.963\n",
       "3814 -14.600 -10.100 -0.244  167.0 -1.24  86.3  0.00928  0.223 -0.963\n",
       "\n",
       "[3815 rows x 9 columns]"
      ]
     },
     "execution_count": 3,
     "metadata": {},
     "output_type": "execute_result"
    }
   ],
   "source": [
    "import matplotlib.pyplot as plt\n",
    "data1 = data.iloc[:,1:]\n",
    "data1.apply(lambda x: (x - np.min(x)) / (np.max(x) - np.min(x)))\n",
    "data1"
   ]
  },
  {
   "cell_type": "code",
   "execution_count": 4,
   "metadata": {},
   "outputs": [
    {
     "data": {
      "text/plain": [
       "(9, 3815)"
      ]
     },
     "execution_count": 4,
     "metadata": {},
     "output_type": "execute_result"
    }
   ],
   "source": [
    "mat = np.transpose(np.array(data1))\n",
    "mat.shape"
   ]
  },
  {
   "cell_type": "code",
   "execution_count": 5,
   "metadata": {},
   "outputs": [],
   "source": [
    "U,S,VT =np.linalg.svd(mat)"
   ]
  },
  {
   "cell_type": "code",
   "execution_count": 6,
   "metadata": {},
   "outputs": [
    {
     "data": {
      "text/plain": [
       "[<matplotlib.lines.Line2D at 0x1f490170430>]"
      ]
     },
     "execution_count": 6,
     "metadata": {},
     "output_type": "execute_result"
    },
    {
     "data": {
      "image/png": "[encoded data removed]",
      "text/plain": [
       "<Figure size 432x288 with 1 Axes>"
      ]
     },
     "metadata": {
      "needs_background": "light"
     },
     "output_type": "display_data"
    }
   ],
   "source": [
    "plt.plot(S)"
   ]
  },
  {
   "cell_type": "code",
   "execution_count": 7,
   "metadata": {},
   "outputs": [
    {
     "data": {
      "text/plain": [
       "(3815, 3815)"
      ]
     },
     "execution_count": 7,
     "metadata": {},
     "output_type": "execute_result"
    }
   ],
   "source": [
    "VT.shape"
   ]
  },
  {
   "cell_type": "code",
   "execution_count": 8,
   "metadata": {},
   "outputs": [
    {
     "data": {
      "text/plain": [
       "[<matplotlib.lines.Line2D at 0x1f49024ec10>]"
      ]
     },
     "execution_count": 8,
     "metadata": {},
     "output_type": "execute_result"
    },
    {
     "data": {
      "image/png": "[encoded data removed]",
      "text/plain": [
       "<Figure size 432x288 with 1 Axes>"
      ]
     },
     "metadata": {
      "needs_background": "light"
     },
     "output_type": "display_data"
    }
   ],
   "source": [
    "plt.plot(VT[1,:])"
   ]
  },
  {
   "cell_type": "code",
   "execution_count": 43,
   "metadata": {},
   "outputs": [],
   "source": [
    "from scipy.fftpack import fft\n",
    "import matplotlib.pyplot as plt"
   ]
  },
  {
   "cell_type": "code",
   "execution_count": 45,
   "metadata": {},
   "outputs": [
    {
     "data": {
      "image/png": "[encoded data removed]",
      "text/plain": [
       "<Figure size 432x288 with 4 Axes>"
      ]
     },
     "metadata": {
      "needs_background": "light"
     },
     "output_type": "display_data"
    }
   ],
   "source": [
    "x = [i for i in range(3815)]\n",
    "y = VT[1,:]\n",
    "yy=fft(y)                     #快速傅里叶变换\n",
    "yreal = yy.real               # 获取实数部分\n",
    "yimag = yy.imag               # 获取虚数部分\n",
    "\n",
    "yf=abs(fft(y))                # 取绝对值\n",
    "yf1=abs(fft(y))/len(x)           #归一化处理\n",
    "yf2 = yf1[range(int(len(x)/2))]  #由于对称性，只取一半区间\n",
    "\n",
    "xf = np.arange(len(y))        # 频率\n",
    "xf1 = xf\n",
    "xf2 = xf[range(int(len(x)/2))]  #取一半区间\n",
    "\n",
    "\n",
    "plt.subplot(221)\n",
    "plt.plot(x[0:3815],y[0:3815])   \n",
    "plt.title('Original wave')\n",
    "\n",
    "plt.subplot(222)\n",
    "plt.plot(xf,yf,'r')\n",
    "plt.title('FFT of Mixed wave(two sides frequency range)',fontsize=7,color='#7A378B')  #注意这里的颜色可以查询颜色代码表\n",
    "\n",
    "plt.subplot(223)\n",
    "plt.plot(xf1,yf1,'g')\n",
    "plt.title('FFT of Mixed wave(normalization)',fontsize=9,color='r')\n",
    "\n",
    "plt.subplot(224)\n",
    "plt.plot(xf2,yf2,'b')\n",
    "plt.title('FFT of Mixed wave)',fontsize=10,color='#F08080')\n",
    "\n",
    "\n",
    "plt.show()\n"
   ]
  },
  {
   "cell_type": "code",
   "execution_count": 9,
   "metadata": {},
   "outputs": [
    {
     "data": {
      "text/plain": [
       "[<matplotlib.lines.Line2D at 0x1f4a1807610>]"
      ]
     },
     "execution_count": 9,
     "metadata": {},
     "output_type": "execute_result"
    },
    {
     "data": {
      "image/png": "[encoded data removed]",
      "text/plain": [
       "<Figure size 432x288 with 1 Axes>"
      ]
     },
     "metadata": {
      "needs_background": "light"
     },
     "output_type": "display_data"
    }
   ],
   "source": [
    "data = pd.read_csv('lefthand_normal_2.csv',header = None)\n",
    "data1 = data.iloc[:,1:]\n",
    "dat = data1.apply(lambda x: (x - np.min(x)) / (np.max(x) - np.min(x)))\n",
    "mat = np.transpose(np.array(dat))\n",
    "U,S,VT =np.linalg.svd(mat)\n",
    "plt.plot(VT[1,:])"
   ]
  },
  {
   "cell_type": "code",
   "execution_count": null,
   "metadata": {},
   "outputs": [],
   "source": []
  }
 ],
 "metadata": {
  "kernelspec": {
   "display_name": "Python 3",
   "language": "python",
   "name": "python3"
  },
  "language_info": {
   "codemirror_mode": {
    "name": "ipython",
    "version": 3
   },
   "file_extension": ".py",
   "mimetype": "text/x-python",
   "name": "python",
   "nbconvert_exporter": "python",
   "pygments_lexer": "ipython3",
   "version": "3.8.8"
  }
 },
 "nbformat": 4,
 "nbformat_minor": 4
}
